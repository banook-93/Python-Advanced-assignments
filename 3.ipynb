{
 "cells": [
  {
   "cell_type": "markdown",
   "metadata": {},
   "source": [
    "# 1. What is the concept of an abstract superclass?"
   ]
  },
  {
   "cell_type": "markdown",
   "metadata": {},
   "source": [
    "The concept of an abstract superclass is a class that cannot be instantiated on its own but serves as a blueprint for its subclasses, defining common attributes and methods to be implemented by its derived classes."
   ]
  },
  {
   "cell_type": "code",
   "execution_count": 1,
   "metadata": {},
   "outputs": [],
   "source": [
    "from abc import ABC, abstractmethod\n",
    "class Polygon(ABC): # Abstract Class\n",
    "    @abstractmethod\n",
    "    def noofsides(self): # Abstract Method\n",
    "        pass\n",
    "class Triangle(Polygon):\n",
    "    def noofsides(self):  # overriding abstract method in child class Triangle\n",
    "        print(\"I have 3 sides\")\n",
    "class Pentagon(Polygon):\n",
    "    def noofsides(self): # overriding abstract method in child class Pentagon\n",
    "        print(\"I have 5 sides\")"
   ]
  },
  {
   "cell_type": "markdown",
   "metadata": {},
   "source": [
    "# 2. What happens when a class statement's top level contains a basic assignment statement?"
   ]
  },
  {
   "cell_type": "markdown",
   "metadata": {},
   "source": [
    "When a class statement's top level contains a basic assignment statement, it defines a class-level attribute that is shared among all instances of the class."
   ]
  },
  {
   "cell_type": "code",
   "execution_count": 2,
   "metadata": {},
   "outputs": [],
   "source": [
    "class Vehicle:\n",
    "    category = 'Transportation'  # class attribute\n",
    "\n",
    "    def __init__(self, make, model):\n",
    "        self.make = make  # instance attribute\n",
    "        self.model = model  # instance attribute\n"
   ]
  },
  {
   "cell_type": "markdown",
   "metadata": {},
   "source": [
    "# 3. Why does a class need to manually call a superclass's init method?"
   ]
  },
  {
   "cell_type": "markdown",
   "metadata": {},
   "source": [
    "A class needs to manually call a superclass's __init__ method to ensure that the superclass's initialization code is executed when creating instances of the subclass. This allows the subclass to inherit and initialize the attributes and behavior defined in the superclass."
   ]
  },
  {
   "cell_type": "code",
   "execution_count": 3,
   "metadata": {},
   "outputs": [
    {
     "name": "stdout",
     "output_type": "stream",
     "text": [
      "{'country_name': 'United States', 'gdp_value': 21433000000000, 'population': 331000000}\n",
      "United States\n",
      "21433000000000\n",
      "331000000\n"
     ]
    }
   ],
   "source": [
    "class GDP:\n",
    "    def __init__(self, country_name, gdp_value):\n",
    "        self.country_name = country_name\n",
    "        self.gdp_value = gdp_value\n",
    "\n",
    "class Country(GDP):\n",
    "    def __init__(self, country_name, gdp_value, population):\n",
    "        super().__init__(country_name, gdp_value)\n",
    "        self.population = population\n",
    "\n",
    "country_1 = Country('United States', 21433000000000, 331000000)\n",
    "print(country_1.__dict__)\n",
    "print(country_1.country_name)\n",
    "print(country_1.gdp_value)\n",
    "print(country_1.population)\n"
   ]
  },
  {
   "cell_type": "markdown",
   "metadata": {},
   "source": [
    "# 4. How can you augment, instead of completely replacing, an inherited method?"
   ]
  },
  {
   "cell_type": "markdown",
   "metadata": {},
   "source": [
    "To augment, instead of completely replacing, an inherited method in a subclass, you can use method overriding. Define a method with the same name as the superclass's method in the subclass. Then, call the superclass's method within the subclass method using super() and add additional functionality before or after the call to modify the behavior of the inherited method."
   ]
  },
  {
   "cell_type": "code",
   "execution_count": 4,
   "metadata": {},
   "outputs": [
    {
     "name": "stdout",
     "output_type": "stream",
     "text": [
      "{'name': 'Anil', 'gender': 'Male', 'salary': 1000000}\n"
     ]
    }
   ],
   "source": [
    "class Human:\n",
    "    def __init__(self,name,gender):\n",
    "        self.name = name\n",
    "        self.gender = gender\n",
    "class Employee(Human):\n",
    "    def __init__(self,name,gender,salary):\n",
    "        super().__init__(name,gender) \n",
    "        self.salary = salary\n",
    "emp_1 = Employee('Anil','Male',1000000)\n",
    "print(emp_1.__dict__)"
   ]
  },
  {
   "cell_type": "markdown",
   "metadata": {},
   "source": [
    "# 5. How is the local scope of a class different from that of a function?"
   ]
  },
  {
   "cell_type": "markdown",
   "metadata": {},
   "source": [
    "The local scope of a class is accessible to all methods within the class, allowing attributes and methods defined within the class to be used across different methods. \n",
    "\n",
    "On the other hand, the local scope of a function is limited to that specific function, and variables defined within the function cannot be accessed outside of it."
   ]
  },
  {
   "cell_type": "code",
   "execution_count": 6,
   "metadata": {},
   "outputs": [
    {
     "name": "stdout",
     "output_type": "stream",
     "text": [
      "your name is Taj Banook\n",
      "Name variable is not available outside the hello function scope\n",
      "HomeSapiens\n",
      "HomeSapiens\n"
     ]
    }
   ],
   "source": [
    "def hello(name):\n",
    "    name = name\n",
    "    print(f'your name is {name}')\n",
    "\n",
    "hello('Taj Banook')\n",
    "\n",
    "try:\n",
    "    name\n",
    "except NameError:\n",
    "    print('Name variable is not available outside the hello function scope')\n",
    "\n",
    "class Person:\n",
    "    species = \"HomeSapiens\"\n",
    "\n",
    "    def __init__(self):\n",
    "        pass\n",
    "\n",
    "print(Person.species)  # Accessing species using class name\n",
    "\n",
    "Female = Person()\n",
    "print(Female.species)  # Accessing species using an instance of the class\n"
   ]
  },
  {
   "cell_type": "code",
   "execution_count": null,
   "metadata": {},
   "outputs": [],
   "source": []
  }
 ],
 "metadata": {
  "kernelspec": {
   "display_name": "Python 3",
   "language": "python",
   "name": "python3"
  },
  "language_info": {
   "codemirror_mode": {
    "name": "ipython",
    "version": 3
   },
   "file_extension": ".py",
   "mimetype": "text/x-python",
   "name": "python",
   "nbconvert_exporter": "python",
   "pygments_lexer": "ipython3",
   "version": "3.8.5"
  }
 },
 "nbformat": 4,
 "nbformat_minor": 4
}
